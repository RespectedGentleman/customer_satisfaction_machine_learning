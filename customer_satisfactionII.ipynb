{
 "cells": [
  {
   "cell_type": "code",
   "execution_count": 2,
   "metadata": {},
   "outputs": [],
   "source": [
    "import matplotlib.pyplot as plt\n",
    "import numpy as np\n",
    "import pandas as pd\n",
    "from sklearn.preprocessing import StandardScaler\n",
    "from sklearn.neural_network import MLPClassifier"
   ]
  },
  {
   "cell_type": "code",
   "execution_count": 16,
   "metadata": {},
   "outputs": [],
   "source": [
    "df= pd.read_csv('test.csv')\n",
    "df_test = pd.DataFrame(df)\n",
    "\n",
    "df= pd.read_csv('train.csv')\n",
    "df_train = pd.DataFrame(df)\n",
    "\n"
   ]
  },
  {
   "cell_type": "code",
   "execution_count": 22,
   "metadata": {},
   "outputs": [],
   "source": [
    "# dropping duplicate rows: PS: we dont have any \n",
    "df_train.drop_duplicates(inplace=True)\n",
    "y_train = df_train['TARGET'].copy()\n",
    "df_train_x = df_train.drop(columns=\"TARGET\")\n",
    "\n",
    "\n",
    "\n",
    "# df_train"
   ]
  },
  {
   "cell_type": "code",
   "execution_count": 24,
   "metadata": {},
   "outputs": [
    {
     "name": "stdout",
     "output_type": "stream",
     "text": [
      "number of rows 76020\n",
      "number of colomns 370\n"
     ]
    }
   ],
   "source": [
    "print(\"number of rows\", len(df_train))\n",
    "print(\"number of colomns\", len (df_train_x.T))"
   ]
  },
  {
   "cell_type": "code",
   "execution_count": 25,
   "metadata": {},
   "outputs": [],
   "source": [
    "# dropping duplicated columns PS: there are no duplicate columns\n",
    "df_train_x.T.drop_duplicates(inplace=True)"
   ]
  },
  {
   "cell_type": "code",
   "execution_count": 31,
   "metadata": {},
   "outputs": [],
   "source": [
    "# dropping columns with variance 0 PS: drops 34 columns\n",
    "df_train_x = df_train_x.drop(df_train_x.var()[df.var() == 0].index.values, axis=1)"
   ]
  },
  {
   "cell_type": "code",
   "execution_count": 41,
   "metadata": {},
   "outputs": [],
   "source": [
    "# dropping columns starting with ind_* they cover the same information\n",
    "column_to_drop = [name for name in df_train_x if name.startswith(\"ind_\")]\n",
    "df_train_x = df_train_x.drop(columns = column_to_drop )"
   ]
  },
  {
   "cell_type": "code",
   "execution_count": null,
   "metadata": {},
   "outputs": [],
   "source": []
  }
 ],
 "metadata": {
  "kernelspec": {
   "display_name": "Python 3",
   "language": "python",
   "name": "python3"
  },
  "language_info": {
   "codemirror_mode": {
    "name": "ipython",
    "version": 3
   },
   "file_extension": ".py",
   "mimetype": "text/x-python",
   "name": "python",
   "nbconvert_exporter": "python",
   "pygments_lexer": "ipython3",
   "version": "3.7.3"
  }
 },
 "nbformat": 4,
 "nbformat_minor": 4
}
