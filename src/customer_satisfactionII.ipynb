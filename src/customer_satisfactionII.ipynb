{
 "cells": [
  {
   "cell_type": "code",
   "execution_count": 24,
   "metadata": {},
   "outputs": [],
   "source": [
    "import matplotlib.pyplot as plt\n",
    "import numpy as np\n",
    "import pandas as pd\n",
    "from sklearn.preprocessing import StandardScaler\n",
    "from sklearn.feature_selection import VarianceThreshold\n",
    "from feature_engine.selection import DropCorrelatedFeatures\n",
    "# possible change to pytorch  \n",
    "from sklearn.neural_network import MLPClassifier\n",
    "from keras.models import Sequential\n",
    "from keras.layers import Dense"
   ]
  },
  {
   "cell_type": "code",
   "execution_count": 5,
   "metadata": {},
   "outputs": [],
   "source": [
    "def loadData(path):\n",
    "    df= pd.read_csv(path)\n",
    "    return pd.DataFrame(df)\n"
   ]
  },
  {
   "cell_type": "code",
   "execution_count": 46,
   "metadata": {},
   "outputs": [],
   "source": [
    "def dropDuplicatedRowAndColumn(train, test):\n",
    "    \n",
    "    train = train.drop_duplicates()\n",
    "    drop = train.columns.duplicated()\n",
    "    return [train.loc[:,~drop], test.loc[:,~drop[:len(drop)-1]]]\n"
   ]
  },
  {
   "cell_type": "code",
   "execution_count": 7,
   "metadata": {},
   "outputs": [],
   "source": [
    "def quasiConstantRemoval(train, threshold, test):\n",
    "    constant_filter = VarianceThreshold(threshold= threshold)\n",
    "    constant_filter.fit(train)\n",
    "    return [pd.DataFrame(constant_filter.transform(train)),pd.DataFrame(constant_filter.transform(test))]"
   ]
  },
  {
   "cell_type": "code",
   "execution_count": 58,
   "metadata": {},
   "outputs": [],
   "source": [
    "def dropCorrelatedFeatures(train,test):\n",
    "    drop_correlated = DropCorrelatedFeatures(\n",
    "    variables=None, method='pearson', threshold=0.9)\n",
    "    drop_correlated.fit(train)\n",
    "    return [pd.DataFrame(drop_correlated.transform(train)),pd.DataFrame(drop_correlated.transform(test))]\n"
   ]
  },
  {
   "cell_type": "code",
   "execution_count": 59,
   "metadata": {},
   "outputs": [],
   "source": [
    "def dropColumnWithName(data, name):\n",
    "    column_to_drop = [c for c in data if c.startswith(name)]\n",
    "    data = data.drop(columns = column_to_drop )\n"
   ]
  },
  {
   "cell_type": "code",
   "execution_count": 60,
   "metadata": {},
   "outputs": [],
   "source": [
    "def normalise(data):\n",
    "    scaler = StandardScaler()\n",
    "    return pd.DataFrame(scaler.fit_transform(data))\n",
    "  "
   ]
  },
  {
   "cell_type": "code",
   "execution_count": 67,
   "metadata": {},
   "outputs": [],
   "source": [
    "def main():\n",
    "    df_train = loadData(\"train.csv\")\n",
    "    df_test = loadData(\"test.csv\")\n",
    "    \n",
    "    # dropping \"ID\" from both training and test data\n",
    "    ID_train = df_train[\"ID\"].copy()\n",
    "    ID_test = df_test[\"ID\"].copy()\n",
    "    df_train = df_train.drop(columns = \"ID\")\n",
    "    df_test = df_test.drop(columns = \"ID\")\n",
    "    \n",
    "\n",
    "    dup = dropDuplicatedRowAndColumn(df_train, df_test)\n",
    "    df_train = dup[0]\n",
    "    df_test = dup[1]\n",
    "   \n",
    "    y_train = df_train['TARGET'].copy()\n",
    "    df_train_x = df_train.drop(columns=\"TARGET\")\n",
    "    \n",
    "    quasi_res = quasiConstantRemoval(df_train_x, 0.01, df_test)\n",
    "    df_train_x = quasi_res[0]\n",
    "    df_test = quasi_res[1]\n",
    "    \n",
    "    correlated  = dropCorrelatedFeatures(df_train_x,df_test)\n",
    "    df_train_x = correlated[0]\n",
    "    df_test = correlated[1]\n",
    "   \n",
    "\n",
    "    df_train_x = normalise(df_train_x)\n",
    "    df_test = normalise(df_test)\n",
    "    \n",
    "    model = build_model(df_train_x)\n",
    "    model.fit(df_train_x, y_train)\n",
    "    prediction = model.predict_proba(df_test)[:,0]\n",
    "    \n",
    "    return pd.DataFrame({'ID':ID_test, \"Target\": prediction})\n"
   ]
  },
  {
   "cell_type": "code",
   "execution_count": 68,
   "metadata": {},
   "outputs": [
    {
     "name": "stdout",
     "output_type": "stream",
     "text": [
      "2226/2226 [==============================] - 3s 1ms/step - loss: 0.2531\n"
     ]
    },
    {
     "name": "stderr",
     "output_type": "stream",
     "text": [
      "/Library/Frameworks/Python.framework/Versions/3.7/lib/python3.7/site-packages/keras/engine/sequential.py:425: UserWarning: `model.predict_proba()` is deprecated and will be removed after 2021-01-01. Please use `model.predict()` instead.\n",
      "  warnings.warn('`model.predict_proba()` is deprecated and '\n"
     ]
    },
    {
     "name": "stdout",
     "output_type": "stream",
     "text": [
      "           ID    Target\n",
      "0           2  0.024762\n",
      "1           5  0.034654\n",
      "2           6  0.014696\n",
      "3           7  0.040811\n",
      "4           9  0.015390\n",
      "...       ...       ...\n",
      "75813  151831  0.066246\n",
      "75814  151832  0.013987\n",
      "75815  151833  0.013182\n",
      "75816  151834  0.023897\n",
      "75817  151837  0.013686\n",
      "\n",
      "[75818 rows x 2 columns]\n"
     ]
    }
   ],
   "source": [
    "result = main()\n",
    "print(result)"
   ]
  },
  {
   "cell_type": "code",
   "execution_count": 31,
   "metadata": {},
   "outputs": [],
   "source": [
    "# 10 fold and the measure is loss\n",
    "def build_model(data):\n",
    "    model = Sequential()\n",
    "    model.add(Dense(120,input_dim = data.shape[1], kernel_initializer='uniform', activation = 'tanh'))\n",
    "    model.add(Dense(1,input_dim = 120, kernel_initializer='uniform', activation = 'sigmoid'))\n",
    "    model.compile(loss='binary_crossentropy', optimizer='adam')   \n",
    "    return model"
   ]
  },
  {
   "cell_type": "code",
   "execution_count": null,
   "metadata": {},
   "outputs": [],
   "source": []
  }
 ],
 "metadata": {
  "kernelspec": {
   "display_name": "Python 3",
   "language": "python",
   "name": "python3"
  },
  "language_info": {
   "codemirror_mode": {
    "name": "ipython",
    "version": 3
   },
   "file_extension": ".py",
   "mimetype": "text/x-python",
   "name": "python",
   "nbconvert_exporter": "python",
   "pygments_lexer": "ipython3",
   "version": "3.7.3"
  }
 },
 "nbformat": 4,
 "nbformat_minor": 4
}
